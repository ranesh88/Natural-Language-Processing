{
  "nbformat": 4,
  "nbformat_minor": 0,
  "metadata": {
    "colab": {
      "name": "NLP_Asssignment_2(Text_Classification).ipynb",
      "provenance": [],
      "collapsed_sections": [],
      "include_colab_link": true
    },
    "kernelspec": {
      "name": "python3",
      "display_name": "Python 3"
    },
    "accelerator": "GPU"
  },
  "cells": [
    {
      "cell_type": "markdown",
      "metadata": {
        "id": "view-in-github",
        "colab_type": "text"
      },
      "source": [
        "<a href=\"https://colab.research.google.com/github/ranesh88/Natural-Language-Processing/blob/main/NLP_Asssignment_2(Text_Classification).ipynb\" target=\"_parent\"><img src=\"https://colab.research.google.com/assets/colab-badge.svg\" alt=\"Open In Colab\"/></a>"
      ]
    },
    {
      "cell_type": "code",
      "metadata": {
        "id": "BSYnBaPXDHTE",
        "colab": {
          "base_uri": "https://localhost:8080/"
        },
        "outputId": "a7dfa4f1-a783-4211-a322-66c873414ab0"
      },
      "source": [
        "import pandas as pd\r\n",
        "import numpy as np\r\n",
        "import tensorflow as tf\r\n",
        "import nltk\r\n",
        "nltk.download('stopwords')\r\n",
        "nltk.download('punkt')\r\n",
        "nltk.download('wordnet')\r\n",
        "from nltk.tokenize import word_tokenize\r\n",
        "from nltk.corpus import stopwords\r\n",
        "from string import punctuation\r\n",
        "\r\n",
        "import matplotlib.pyplot as plt\r\n",
        "from wordcloud import WordCloud\r\n",
        "\r\n",
        "from sklearn.feature_extraction.text import TfidfVectorizer\r\n",
        "from sklearn.feature_extraction.text import CountVectorizer\r\n",
        "\r\n",
        "from nltk.stem import WordNetLemmatizer"
      ],
      "execution_count": 41,
      "outputs": [
        {
          "output_type": "stream",
          "text": [
            "[nltk_data] Downloading package stopwords to /root/nltk_data...\n",
            "[nltk_data]   Package stopwords is already up-to-date!\n",
            "[nltk_data] Downloading package punkt to /root/nltk_data...\n",
            "[nltk_data]   Package punkt is already up-to-date!\n",
            "[nltk_data] Downloading package wordnet to /root/nltk_data...\n",
            "[nltk_data]   Package wordnet is already up-to-date!\n"
          ],
          "name": "stdout"
        }
      ]
    },
    {
      "cell_type": "code",
      "metadata": {
        "id": "1ClGUm6hMMcH"
      },
      "source": [
        "stop = stopwords.words('english')\r\n",
        "punkt = list(punctuation)\r\n",
        "bad_tokens = stop + punkt"
      ],
      "execution_count": 42,
      "outputs": []
    },
    {
      "cell_type": "code",
      "metadata": {
        "id": "0plCxr9gMOpn"
      },
      "source": [
        "df = pd.read_csv(\"/content/news.csv\")"
      ],
      "execution_count": 43,
      "outputs": []
    },
    {
      "cell_type": "code",
      "metadata": {
        "colab": {
          "base_uri": "https://localhost:8080/",
          "height": 204
        },
        "id": "bQ9-vitFMSZD",
        "outputId": "f7932008-0d5d-4a39-be4a-19b5a6eda986"
      },
      "source": [
        "df.head()"
      ],
      "execution_count": 44,
      "outputs": [
        {
          "output_type": "execute_result",
          "data": {
            "text/html": [
              "<div>\n",
              "<style scoped>\n",
              "    .dataframe tbody tr th:only-of-type {\n",
              "        vertical-align: middle;\n",
              "    }\n",
              "\n",
              "    .dataframe tbody tr th {\n",
              "        vertical-align: top;\n",
              "    }\n",
              "\n",
              "    .dataframe thead th {\n",
              "        text-align: right;\n",
              "    }\n",
              "</style>\n",
              "<table border=\"1\" class=\"dataframe\">\n",
              "  <thead>\n",
              "    <tr style=\"text-align: right;\">\n",
              "      <th></th>\n",
              "      <th>text</th>\n",
              "      <th>subject</th>\n",
              "      <th>fake</th>\n",
              "    </tr>\n",
              "  </thead>\n",
              "  <tbody>\n",
              "    <tr>\n",
              "      <th>0</th>\n",
              "      <td>Donald Trump just couldn t wish all Americans ...</td>\n",
              "      <td>News</td>\n",
              "      <td>1</td>\n",
              "    </tr>\n",
              "    <tr>\n",
              "      <th>1</th>\n",
              "      <td>House Intelligence Committee Chairman Devin Nu...</td>\n",
              "      <td>News</td>\n",
              "      <td>1</td>\n",
              "    </tr>\n",
              "    <tr>\n",
              "      <th>2</th>\n",
              "      <td>On Friday, it was revealed that former Milwauk...</td>\n",
              "      <td>News</td>\n",
              "      <td>1</td>\n",
              "    </tr>\n",
              "    <tr>\n",
              "      <th>3</th>\n",
              "      <td>On Christmas day, Donald Trump announced that ...</td>\n",
              "      <td>News</td>\n",
              "      <td>1</td>\n",
              "    </tr>\n",
              "    <tr>\n",
              "      <th>4</th>\n",
              "      <td>Pope Francis used his annual Christmas Day mes...</td>\n",
              "      <td>News</td>\n",
              "      <td>1</td>\n",
              "    </tr>\n",
              "  </tbody>\n",
              "</table>\n",
              "</div>"
            ],
            "text/plain": [
              "                                                text subject  fake\n",
              "0  Donald Trump just couldn t wish all Americans ...    News     1\n",
              "1  House Intelligence Committee Chairman Devin Nu...    News     1\n",
              "2  On Friday, it was revealed that former Milwauk...    News     1\n",
              "3  On Christmas day, Donald Trump announced that ...    News     1\n",
              "4  Pope Francis used his annual Christmas Day mes...    News     1"
            ]
          },
          "metadata": {
            "tags": []
          },
          "execution_count": 44
        }
      ]
    },
    {
      "cell_type": "code",
      "metadata": {
        "id": "vo0fSHOZX1P6"
      },
      "source": [
        "\r\n",
        "def clean_text(text):\r\n",
        "    \r\n",
        "    text = text.lower()\r\n",
        "    tokens = word_tokenize(text)\r\n",
        "    word_tokens = [t for t in tokens if t.isalpha()]\r\n",
        "    lemma = WordNetLemmatizer()\r\n",
        "    lemma_tokens = [lemma.lemmatize(w) for w in word_tokens]\r\n",
        "    final_tokens = [t for t in word_tokens if t not in lemma_tokens]\r\n",
        "    return \" \".join(final_tokens)"
      ],
      "execution_count": 45,
      "outputs": []
    },
    {
      "cell_type": "code",
      "metadata": {
        "id": "N6M4CHsqYR1y"
      },
      "source": [
        "df[\"text\"] = df[\"text\"].apply(clean_text)"
      ],
      "execution_count": 39,
      "outputs": []
    },
    {
      "cell_type": "code",
      "metadata": {
        "colab": {
          "base_uri": "https://localhost:8080/"
        },
        "id": "87tDZxU-Dg4Y",
        "outputId": "512264bb-141e-43b8-d60a-d599eec5c6d6"
      },
      "source": [
        "df[\"text\"]"
      ],
      "execution_count": 7,
      "outputs": [
        {
          "output_type": "execute_result",
          "data": {
            "text/plain": [
              "0      americans enemies haters media as friends supp...\n",
              "1      us was as documents was as has as boys months ...\n",
              "2      was was has was feelings has copies media atte...\n",
              "3      games appearances rounds pass https makes has ...\n",
              "4      days members nations as states borders childre...\n",
              "                             ...                        \n",
              "403    us philosophers moralists masochists evangelis...\n",
              "404    las vegas details vegas questions scenes las v...\n",
              "405    fascists categories fascists weeks has demonst...\n",
              "406    protagonists las vegas events las vegas has me...\n",
              "407    residents states passports flights states us r...\n",
              "Name: text, Length: 408, dtype: object"
            ]
          },
          "metadata": {
            "tags": []
          },
          "execution_count": 7
        }
      ]
    },
    {
      "cell_type": "code",
      "metadata": {
        "id": "dSdPju08EcYX"
      },
      "source": [
        "X = df[\"text\"]\r\n",
        "y = df[\"fake\"]"
      ],
      "execution_count": 8,
      "outputs": []
    },
    {
      "cell_type": "code",
      "metadata": {
        "colab": {
          "base_uri": "https://localhost:8080/"
        },
        "id": "uMGQMWmQEt-n",
        "outputId": "23411f90-47cc-49ef-f175-ea1b8a69360d"
      },
      "source": [
        "y.value_counts()"
      ],
      "execution_count": 9,
      "outputs": [
        {
          "output_type": "execute_result",
          "data": {
            "text/plain": [
              "1    204\n",
              "0    204\n",
              "Name: fake, dtype: int64"
            ]
          },
          "metadata": {
            "tags": []
          },
          "execution_count": 9
        }
      ]
    },
    {
      "cell_type": "code",
      "metadata": {
        "id": "W-cpKSOqEuof"
      },
      "source": [
        "def encode(x):\r\n",
        "    index = {\"fake\":1,\"not fake\":0}\r\n",
        "    return index[x]"
      ],
      "execution_count": 10,
      "outputs": []
    },
    {
      "cell_type": "code",
      "metadata": {
        "id": "jAhYz_fYE7fD",
        "colab": {
          "base_uri": "https://localhost:8080/"
        },
        "outputId": "8236a199-5a17-497a-fa8d-5cc80ebfb59f"
      },
      "source": [
        "y.value_counts()"
      ],
      "execution_count": 11,
      "outputs": [
        {
          "output_type": "execute_result",
          "data": {
            "text/plain": [
              "1    204\n",
              "0    204\n",
              "Name: fake, dtype: int64"
            ]
          },
          "metadata": {
            "tags": []
          },
          "execution_count": 11
        }
      ]
    },
    {
      "cell_type": "code",
      "metadata": {
        "id": "ZPc_jpjOE-Ma"
      },
      "source": [
        "from sklearn.model_selection import train_test_split"
      ],
      "execution_count": 12,
      "outputs": []
    },
    {
      "cell_type": "code",
      "metadata": {
        "id": "y2a7aE0AFKMX"
      },
      "source": [
        "X_train,X_test,y_train,y_test = train_test_split(X,y,random_state=1,test_size=0.3)"
      ],
      "execution_count": 13,
      "outputs": []
    },
    {
      "cell_type": "code",
      "metadata": {
        "id": "IqUwXxqbFC5Z"
      },
      "source": [
        "cv = CountVectorizer()"
      ],
      "execution_count": 14,
      "outputs": []
    },
    {
      "cell_type": "code",
      "metadata": {
        "id": "S9-_b33AFFs4"
      },
      "source": [
        "X_train_cv = cv.fit_transform(X_train)"
      ],
      "execution_count": 15,
      "outputs": []
    },
    {
      "cell_type": "code",
      "metadata": {
        "id": "6rUK1lHBFNll"
      },
      "source": [
        "X_test_cv = cv.transform(X_test)"
      ],
      "execution_count": 16,
      "outputs": []
    },
    {
      "cell_type": "code",
      "metadata": {
        "id": "TgtJQYjYFQFl"
      },
      "source": [
        "from sklearn.tree import DecisionTreeClassifier\r\n",
        "from sklearn.metrics import classification_report"
      ],
      "execution_count": 17,
      "outputs": []
    },
    {
      "cell_type": "code",
      "metadata": {
        "id": "kpBdyVO8FSis"
      },
      "source": [
        "dt = DecisionTreeClassifier()"
      ],
      "execution_count": 18,
      "outputs": []
    },
    {
      "cell_type": "code",
      "metadata": {
        "id": "GpfS7R2FFVRA",
        "colab": {
          "base_uri": "https://localhost:8080/"
        },
        "outputId": "dec1184f-5542-460a-bceb-9356a5f91fc4"
      },
      "source": [
        "dt.fit(X_train_cv,y_train)"
      ],
      "execution_count": 19,
      "outputs": [
        {
          "output_type": "execute_result",
          "data": {
            "text/plain": [
              "DecisionTreeClassifier(ccp_alpha=0.0, class_weight=None, criterion='gini',\n",
              "                       max_depth=None, max_features=None, max_leaf_nodes=None,\n",
              "                       min_impurity_decrease=0.0, min_impurity_split=None,\n",
              "                       min_samples_leaf=1, min_samples_split=2,\n",
              "                       min_weight_fraction_leaf=0.0, presort='deprecated',\n",
              "                       random_state=None, splitter='best')"
            ]
          },
          "metadata": {
            "tags": []
          },
          "execution_count": 19
        }
      ]
    },
    {
      "cell_type": "code",
      "metadata": {
        "id": "vJ8-NtzoFYiR"
      },
      "source": [
        "y_pred = dt.predict(X_test_cv)"
      ],
      "execution_count": 20,
      "outputs": []
    },
    {
      "cell_type": "code",
      "metadata": {
        "id": "FvBVWWxzFbwo",
        "colab": {
          "base_uri": "https://localhost:8080/"
        },
        "outputId": "688817de-e9f5-4032-ed77-c5b7ab900e8b"
      },
      "source": [
        "print(classification_report(y_test,y_pred))"
      ],
      "execution_count": 21,
      "outputs": [
        {
          "output_type": "stream",
          "text": [
            "              precision    recall  f1-score   support\n",
            "\n",
            "           0       0.24      0.24      0.24        68\n",
            "           1       0.07      0.07      0.07        55\n",
            "\n",
            "    accuracy                           0.16       123\n",
            "   macro avg       0.16      0.15      0.15       123\n",
            "weighted avg       0.16      0.16      0.16       123\n",
            "\n"
          ],
          "name": "stdout"
        }
      ]
    },
    {
      "cell_type": "markdown",
      "metadata": {
        "id": "ft6KSiATBXyG"
      },
      "source": [
        " TF-IDF"
      ]
    },
    {
      "cell_type": "code",
      "metadata": {
        "id": "Z-UNkF8AFgMR"
      },
      "source": [
        "tf = TfidfVectorizer()"
      ],
      "execution_count": 23,
      "outputs": []
    },
    {
      "cell_type": "code",
      "metadata": {
        "id": "BMDev7aJFioM"
      },
      "source": [
        "# X_train_tf = tf.fit_transform(X_train) is enough\r\n",
        "X_train_tf = tf.fit_transform(X_train)"
      ],
      "execution_count": 24,
      "outputs": []
    },
    {
      "cell_type": "code",
      "metadata": {
        "id": "P3e5V5cNFlTc"
      },
      "source": [
        "X_test_tf = tf.transform(X_test)"
      ],
      "execution_count": 25,
      "outputs": []
    },
    {
      "cell_type": "code",
      "metadata": {
        "id": "JsSF2iM_FnNI"
      },
      "source": [
        "dt2 = DecisionTreeClassifier()"
      ],
      "execution_count": 26,
      "outputs": []
    },
    {
      "cell_type": "code",
      "metadata": {
        "id": "BZVsEq-dFpHd",
        "colab": {
          "base_uri": "https://localhost:8080/"
        },
        "outputId": "4d3ac82b-8a10-4f0f-9f1e-28c0ce9545d8"
      },
      "source": [
        "dt2.fit(X_train_tf,y_train)"
      ],
      "execution_count": 27,
      "outputs": [
        {
          "output_type": "execute_result",
          "data": {
            "text/plain": [
              "DecisionTreeClassifier(ccp_alpha=0.0, class_weight=None, criterion='gini',\n",
              "                       max_depth=None, max_features=None, max_leaf_nodes=None,\n",
              "                       min_impurity_decrease=0.0, min_impurity_split=None,\n",
              "                       min_samples_leaf=1, min_samples_split=2,\n",
              "                       min_weight_fraction_leaf=0.0, presort='deprecated',\n",
              "                       random_state=None, splitter='best')"
            ]
          },
          "metadata": {
            "tags": []
          },
          "execution_count": 27
        }
      ]
    },
    {
      "cell_type": "code",
      "metadata": {
        "id": "O9Dm7VbmFsTF"
      },
      "source": [
        "y_pred = dt2.predict(X_test_tf)"
      ],
      "execution_count": 28,
      "outputs": []
    },
    {
      "cell_type": "code",
      "metadata": {
        "id": "ke7nLreXFuM9",
        "colab": {
          "base_uri": "https://localhost:8080/"
        },
        "outputId": "5592da9c-94fc-4f8e-e1a2-a5905b8a8e4c"
      },
      "source": [
        "print(classification_report(y_test,y_pred))"
      ],
      "execution_count": 29,
      "outputs": [
        {
          "output_type": "stream",
          "text": [
            "              precision    recall  f1-score   support\n",
            "\n",
            "           0       0.21      0.19      0.20        68\n",
            "           1       0.11      0.13      0.12        55\n",
            "\n",
            "    accuracy                           0.16       123\n",
            "   macro avg       0.16      0.16      0.16       123\n",
            "weighted avg       0.17      0.16      0.16       123\n",
            "\n"
          ],
          "name": "stdout"
        }
      ]
    },
    {
      "cell_type": "code",
      "metadata": {
        "id": "F8Bd6i24F4tS"
      },
      "source": [
        "model = tf.keras.Sequential([\r\n",
        "    \r\n",
        "    tf.keras.layers.Dense(2, activation=\"relu\", input_shape=(X_train_cv.shape[1],)),\r\n",
        "    tf.keras.layers.Dense(3, activation=\"relu\"),\r\n",
        "    tf.keras.layers.Dense(1, activation=\"sigmoid\")\r\n",
        "    \r\n",
        "])"
      ],
      "execution_count": 31,
      "outputs": []
    },
    {
      "cell_type": "code",
      "metadata": {
        "id": "SucKQPJLF79S"
      },
      "source": [
        "model.compile(optimizer=\"adam\", loss=\"binary_crossentropy\")"
      ],
      "execution_count": 32,
      "outputs": []
    },
    {
      "cell_type": "code",
      "metadata": {
        "id": "RhTd7FoTF_YJ",
        "colab": {
          "base_uri": "https://localhost:8080/"
        },
        "outputId": "adef7bef-b297-43c0-cd1d-4760e8b5f8f3"
      },
      "source": [
        "model.fit(X_train_tf.toarray(), y_train, epochs=50, batch_size=50)"
      ],
      "execution_count": 33,
      "outputs": [
        {
          "output_type": "stream",
          "text": [
            "Epoch 1/50\n",
            "6/6 [==============================] - 2s 4ms/step - loss: 0.6931\n",
            "Epoch 2/50\n",
            "6/6 [==============================] - 0s 3ms/step - loss: 0.6922\n",
            "Epoch 3/50\n",
            "6/6 [==============================] - 0s 3ms/step - loss: 0.6918\n",
            "Epoch 4/50\n",
            "6/6 [==============================] - 0s 3ms/step - loss: 0.6913\n",
            "Epoch 5/50\n",
            "6/6 [==============================] - 0s 3ms/step - loss: 0.6902\n",
            "Epoch 6/50\n",
            "6/6 [==============================] - 0s 3ms/step - loss: 0.6898\n",
            "Epoch 7/50\n",
            "6/6 [==============================] - 0s 3ms/step - loss: 0.6905\n",
            "Epoch 8/50\n",
            "6/6 [==============================] - 0s 3ms/step - loss: 0.6905\n",
            "Epoch 9/50\n",
            "6/6 [==============================] - 0s 3ms/step - loss: 0.6889\n",
            "Epoch 10/50\n",
            "6/6 [==============================] - 0s 3ms/step - loss: 0.6884\n",
            "Epoch 11/50\n",
            "6/6 [==============================] - 0s 3ms/step - loss: 0.6880\n",
            "Epoch 12/50\n",
            "6/6 [==============================] - 0s 3ms/step - loss: 0.6836\n",
            "Epoch 13/50\n",
            "6/6 [==============================] - 0s 3ms/step - loss: 0.6866\n",
            "Epoch 14/50\n",
            "6/6 [==============================] - 0s 4ms/step - loss: 0.6842\n",
            "Epoch 15/50\n",
            "6/6 [==============================] - 0s 4ms/step - loss: 0.6824\n",
            "Epoch 16/50\n",
            "6/6 [==============================] - 0s 3ms/step - loss: 0.6808\n",
            "Epoch 17/50\n",
            "6/6 [==============================] - 0s 3ms/step - loss: 0.6807\n",
            "Epoch 18/50\n",
            "6/6 [==============================] - 0s 3ms/step - loss: 0.6793\n",
            "Epoch 19/50\n",
            "6/6 [==============================] - 0s 3ms/step - loss: 0.6820\n",
            "Epoch 20/50\n",
            "6/6 [==============================] - 0s 3ms/step - loss: 0.6778\n",
            "Epoch 21/50\n",
            "6/6 [==============================] - 0s 3ms/step - loss: 0.6765\n",
            "Epoch 22/50\n",
            "6/6 [==============================] - 0s 3ms/step - loss: 0.6785\n",
            "Epoch 23/50\n",
            "6/6 [==============================] - 0s 3ms/step - loss: 0.6752\n",
            "Epoch 24/50\n",
            "6/6 [==============================] - 0s 3ms/step - loss: 0.6768\n",
            "Epoch 25/50\n",
            "6/6 [==============================] - 0s 3ms/step - loss: 0.6697\n",
            "Epoch 26/50\n",
            "6/6 [==============================] - 0s 3ms/step - loss: 0.6714\n",
            "Epoch 27/50\n",
            "6/6 [==============================] - 0s 3ms/step - loss: 0.6698\n",
            "Epoch 28/50\n",
            "6/6 [==============================] - 0s 3ms/step - loss: 0.6625\n",
            "Epoch 29/50\n",
            "6/6 [==============================] - 0s 3ms/step - loss: 0.6691\n",
            "Epoch 30/50\n",
            "6/6 [==============================] - 0s 3ms/step - loss: 0.6607\n",
            "Epoch 31/50\n",
            "6/6 [==============================] - 0s 3ms/step - loss: 0.6589\n",
            "Epoch 32/50\n",
            "6/6 [==============================] - 0s 3ms/step - loss: 0.6632\n",
            "Epoch 33/50\n",
            "6/6 [==============================] - 0s 3ms/step - loss: 0.6575\n",
            "Epoch 34/50\n",
            "6/6 [==============================] - 0s 3ms/step - loss: 0.6580\n",
            "Epoch 35/50\n",
            "6/6 [==============================] - 0s 3ms/step - loss: 0.6547\n",
            "Epoch 36/50\n",
            "6/6 [==============================] - 0s 3ms/step - loss: 0.6488\n",
            "Epoch 37/50\n",
            "6/6 [==============================] - 0s 3ms/step - loss: 0.6513\n",
            "Epoch 38/50\n",
            "6/6 [==============================] - 0s 3ms/step - loss: 0.6514\n",
            "Epoch 39/50\n",
            "6/6 [==============================] - 0s 3ms/step - loss: 0.6503\n",
            "Epoch 40/50\n",
            "6/6 [==============================] - 0s 3ms/step - loss: 0.6417\n",
            "Epoch 41/50\n",
            "6/6 [==============================] - 0s 3ms/step - loss: 0.6436\n",
            "Epoch 42/50\n",
            "6/6 [==============================] - 0s 3ms/step - loss: 0.6405\n",
            "Epoch 43/50\n",
            "6/6 [==============================] - 0s 3ms/step - loss: 0.6508\n",
            "Epoch 44/50\n",
            "6/6 [==============================] - 0s 3ms/step - loss: 0.6422\n",
            "Epoch 45/50\n",
            "6/6 [==============================] - 0s 3ms/step - loss: 0.6378\n",
            "Epoch 46/50\n",
            "6/6 [==============================] - 0s 3ms/step - loss: 0.6458\n",
            "Epoch 47/50\n",
            "6/6 [==============================] - 0s 3ms/step - loss: 0.6348\n",
            "Epoch 48/50\n",
            "6/6 [==============================] - 0s 3ms/step - loss: 0.6289\n",
            "Epoch 49/50\n",
            "6/6 [==============================] - 0s 3ms/step - loss: 0.6255\n",
            "Epoch 50/50\n",
            "6/6 [==============================] - 0s 3ms/step - loss: 0.6197\n"
          ],
          "name": "stdout"
        },
        {
          "output_type": "execute_result",
          "data": {
            "text/plain": [
              "<tensorflow.python.keras.callbacks.History at 0x7fba901084a8>"
            ]
          },
          "metadata": {
            "tags": []
          },
          "execution_count": 33
        }
      ]
    },
    {
      "cell_type": "code",
      "metadata": {
        "id": "_xb174_TGBJm"
      },
      "source": [
        "y_pred = model.predict(X_test_tf.toarray())"
      ],
      "execution_count": 34,
      "outputs": []
    },
    {
      "cell_type": "code",
      "metadata": {
        "id": "Cbiwo6yhGGPa"
      },
      "source": [
        "  y_pred = np.where(y_pred >= 0.5,1,0)"
      ],
      "execution_count": 36,
      "outputs": []
    },
    {
      "cell_type": "code",
      "metadata": {
        "id": "j6ZmlR_rGIKx",
        "colab": {
          "base_uri": "https://localhost:8080/"
        },
        "outputId": "371313d9-3493-4181-ed5e-dd23afcf3154"
      },
      "source": [
        "print(classification_report(y_test,y_pred))"
      ],
      "execution_count": 37,
      "outputs": [
        {
          "output_type": "stream",
          "text": [
            "              precision    recall  f1-score   support\n",
            "\n",
            "           0       0.12      0.07      0.09        68\n",
            "           1       0.23      0.35      0.28        55\n",
            "\n",
            "    accuracy                           0.20       123\n",
            "   macro avg       0.18      0.21      0.18       123\n",
            "weighted avg       0.17      0.20      0.17       123\n",
            "\n"
          ],
          "name": "stdout"
        }
      ]
    }
  ]
}