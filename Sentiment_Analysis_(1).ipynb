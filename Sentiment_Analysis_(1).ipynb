{
  "nbformat": 4,
  "nbformat_minor": 0,
  "metadata": {
    "kernelspec": {
      "display_name": "Python 3",
      "language": "python",
      "name": "python3"
    },
    "language_info": {
      "codemirror_mode": {
        "name": "ipython",
        "version": 3
      },
      "file_extension": ".py",
      "mimetype": "text/x-python",
      "name": "python",
      "nbconvert_exporter": "python",
      "pygments_lexer": "ipython3",
      "version": "3.7.4"
    },
    "colab": {
      "name": "Sentiment Analysis (1).ipynb",
      "provenance": [],
      "include_colab_link": true
    }
  },
  "cells": [
    {
      "cell_type": "markdown",
      "metadata": {
        "id": "view-in-github",
        "colab_type": "text"
      },
      "source": [
        "<a href=\"https://colab.research.google.com/github/ranesh88/Natural-Language-Processing/blob/main/Sentiment_Analysis_(1).ipynb\" target=\"_parent\"><img src=\"https://colab.research.google.com/assets/colab-badge.svg\" alt=\"Open In Colab\"/></a>"
      ]
    },
    {
      "cell_type": "markdown",
      "metadata": {
        "id": "KBQbEpjzSScG"
      },
      "source": [
        "Sentiment analysis is one of the most common applications in natural language processing. With Sentiment analysis, we can decide what emotion a text is written.\n",
        "\n",
        "With the widespread use of social media, the need to analyze the content that people share over social media is increasing day by day. Considering the volume of data coming through social media, it is quite difficult to do this with human power. Therefore, the need for applications that can quickly detect and respond to the positive or negative comments that people write is increasing day by day. In this paper, we will develop a baseline model for simple analysis of sentiment.\n",
        "\n",
        "First of all, we will give you information about the data set that we will make a sentiment analysis.\n",
        "\n",
        "Data Set Name: Sentiment Labelled Sentences Data Set\n",
        "\n",
        "Data Set Source:UCI Machine Learning Libarary\n",
        "\n",
        "Data Set Info: This dataset was created with user reviews collected via 3 different websites (Amazon, Yelp, Imdb). These comments consist of restaurant, film and product reviews. Each record in the data set is labeled with two different emoticons. These are 1: Positive, 0: Negative.\n",
        "\n",
        "We will create a sentiment analysis model using the data set we have given above.\n",
        "\n",
        "We will build the Machine Learning model with the Python programming language using the sklearn and nltk library."
      ]
    },
    {
      "cell_type": "markdown",
      "metadata": {
        "id": "tqIQCKgPSScs"
      },
      "source": [
        "# import all required modules"
      ]
    },
    {
      "cell_type": "code",
      "metadata": {
        "id": "6Xndl0c2SSct"
      },
      "source": [
        "import pandas as pd\n",
        "import numpy as np\n",
        "import pickle\n",
        "import sys\n",
        "import os\n",
        "import io\n",
        "import re\n",
        "from sys import path\n",
        "import numpy as np\n",
        "import pickle\n",
        "from sklearn.feature_extraction.text import CountVectorizer\n",
        "from sklearn.naive_bayes import MultinomialNB\n",
        "from sklearn.model_selection import train_test_split\n",
        "from sklearn.preprocessing import LabelBinarizer\n",
        "import matplotlib.pyplot as plt\n",
        "from string import punctuation, digits\n",
        "from IPython.core.display import display, HTML\n",
        "from nltk.corpus import stopwords\n",
        "from nltk.corpus import stopwords\n",
        "from nltk.tokenize import word_tokenize\n",
        "from nltk.tokenize import RegexpTokenizer"
      ],
      "execution_count": null,
      "outputs": []
    },
    {
      "cell_type": "markdown",
      "metadata": {
        "id": "GnJMOkWcSScw"
      },
      "source": [
        "# Now let's upload and view our data set."
      ]
    },
    {
      "cell_type": "code",
      "metadata": {
        "id": "xNiEsUFtSScx",
        "outputId": "eaa5ccea-a214-4cf4-a480-64d4d3054986"
      },
      "source": [
        "#Amazon Data\n",
        "input_file = \"sentiment labelled sentences/amazon_cells_labelled.txt\"\n",
        "amazon = pd.read_csv(input_file,delimiter='\\t',header=None)\n",
        "amazon.columns = ['Sentence','Class']\n",
        "#Yelp Data\n",
        "input_file = \"sentiment labelled sentences/yelp_labelled.txt\"\n",
        "yelp = pd.read_csv(input_file,delimiter='\\t',header=None)\n",
        "yelp.columns = ['Sentence','Class']\n",
        "#Imdb Data\n",
        "input_file = \"sentiment labelled sentences/imdb_labelled.txt\"\n",
        "imdb = pd.read_csv(input_file,delimiter='\\t',header=None)\n",
        "imdb.columns = ['Sentence','Class']\n",
        "#combine all data sets\n",
        "data = pd.DataFrame()\n",
        "data = pd.concat([amazon, yelp, imdb])\n",
        "data['index'] = data.index\n",
        "data"
      ],
      "execution_count": null,
      "outputs": [
        {
          "output_type": "execute_result",
          "data": {
            "text/html": [
              "<div>\n",
              "<style scoped>\n",
              "    .dataframe tbody tr th:only-of-type {\n",
              "        vertical-align: middle;\n",
              "    }\n",
              "\n",
              "    .dataframe tbody tr th {\n",
              "        vertical-align: top;\n",
              "    }\n",
              "\n",
              "    .dataframe thead th {\n",
              "        text-align: right;\n",
              "    }\n",
              "</style>\n",
              "<table border=\"1\" class=\"dataframe\">\n",
              "  <thead>\n",
              "    <tr style=\"text-align: right;\">\n",
              "      <th></th>\n",
              "      <th>Sentence</th>\n",
              "      <th>Class</th>\n",
              "      <th>index</th>\n",
              "    </tr>\n",
              "  </thead>\n",
              "  <tbody>\n",
              "    <tr>\n",
              "      <td>0</td>\n",
              "      <td>So there is no way for me to plug it in here i...</td>\n",
              "      <td>0</td>\n",
              "      <td>0</td>\n",
              "    </tr>\n",
              "    <tr>\n",
              "      <td>1</td>\n",
              "      <td>Good case, Excellent value.</td>\n",
              "      <td>1</td>\n",
              "      <td>1</td>\n",
              "    </tr>\n",
              "    <tr>\n",
              "      <td>2</td>\n",
              "      <td>Great for the jawbone.</td>\n",
              "      <td>1</td>\n",
              "      <td>2</td>\n",
              "    </tr>\n",
              "    <tr>\n",
              "      <td>3</td>\n",
              "      <td>Tied to charger for conversations lasting more...</td>\n",
              "      <td>0</td>\n",
              "      <td>3</td>\n",
              "    </tr>\n",
              "    <tr>\n",
              "      <td>4</td>\n",
              "      <td>The mic is great.</td>\n",
              "      <td>1</td>\n",
              "      <td>4</td>\n",
              "    </tr>\n",
              "    <tr>\n",
              "      <td>...</td>\n",
              "      <td>...</td>\n",
              "      <td>...</td>\n",
              "      <td>...</td>\n",
              "    </tr>\n",
              "    <tr>\n",
              "      <td>743</td>\n",
              "      <td>I just got bored watching Jessice Lange take h...</td>\n",
              "      <td>0</td>\n",
              "      <td>743</td>\n",
              "    </tr>\n",
              "    <tr>\n",
              "      <td>744</td>\n",
              "      <td>Unfortunately, any virtue in this film's produ...</td>\n",
              "      <td>0</td>\n",
              "      <td>744</td>\n",
              "    </tr>\n",
              "    <tr>\n",
              "      <td>745</td>\n",
              "      <td>In a word, it is embarrassing.</td>\n",
              "      <td>0</td>\n",
              "      <td>745</td>\n",
              "    </tr>\n",
              "    <tr>\n",
              "      <td>746</td>\n",
              "      <td>Exceptionally bad!</td>\n",
              "      <td>0</td>\n",
              "      <td>746</td>\n",
              "    </tr>\n",
              "    <tr>\n",
              "      <td>747</td>\n",
              "      <td>All in all its an insult to one's intelligence...</td>\n",
              "      <td>0</td>\n",
              "      <td>747</td>\n",
              "    </tr>\n",
              "  </tbody>\n",
              "</table>\n",
              "<p>2748 rows × 3 columns</p>\n",
              "</div>"
            ],
            "text/plain": [
              "                                              Sentence  Class  index\n",
              "0    So there is no way for me to plug it in here i...      0      0\n",
              "1                          Good case, Excellent value.      1      1\n",
              "2                               Great for the jawbone.      1      2\n",
              "3    Tied to charger for conversations lasting more...      0      3\n",
              "4                                    The mic is great.      1      4\n",
              "..                                                 ...    ...    ...\n",
              "743  I just got bored watching Jessice Lange take h...      0    743\n",
              "744  Unfortunately, any virtue in this film's produ...      0    744\n",
              "745                   In a word, it is embarrassing.        0    745\n",
              "746                               Exceptionally bad!        0    746\n",
              "747  All in all its an insult to one's intelligence...      0    747\n",
              "\n",
              "[2748 rows x 3 columns]"
            ]
          },
          "metadata": {
            "tags": []
          },
          "execution_count": 4
        }
      ]
    },
    {
      "cell_type": "markdown",
      "metadata": {
        "id": "wbWKxMHYSSc3"
      },
      "source": [
        "# Yes, we imported the data and viewed it. Now, let's look at the statistics about the data."
      ]
    },
    {
      "cell_type": "code",
      "metadata": {
        "id": "iIk6L7zBSSc5",
        "outputId": "fde47c37-b7f6-4f03-b76b-c71fbfa6a21a"
      },
      "source": [
        "#Total Count of Each Category\n",
        "pd.set_option('display.width', 4000)\n",
        "pd.set_option('display.max_rows', 1000)\n",
        "distOfDetails = data.groupby(by='Class', as_index=False).agg({'index': pd.Series.nunique}).sort_values(by='index', ascending=False)\n",
        "distOfDetails.columns =['Class', 'COUNT']\n",
        "print(distOfDetails)\n",
        "#Distribution of All Categories\n",
        "plt.pie(distOfDetails['COUNT'],autopct='%1.0f%%',shadow=True, startangle=360)\n",
        "plt.show()"
      ],
      "execution_count": null,
      "outputs": [
        {
          "output_type": "stream",
          "text": [
            "   Class  COUNT\n",
            "0      0    846\n",
            "1      1    827\n"
          ],
          "name": "stdout"
        },
        {
          "output_type": "display_data",
          "data": {
            "image/png": "[encoded data removed]",
            "text/plain": [
              "<Figure size 432x288 with 1 Axes>"
            ]
          },
          "metadata": {
            "tags": []
          }
        }
      ]
    },
    {
      "cell_type": "code",
      "metadata": {
        "id": "WpEisIdTSSc-"
      },
      "source": [
        "#Text Preprocessing\n",
        "columns = ['index','Class', 'Sentence']\n",
        "df_ = pd.DataFrame(columns=columns)\n",
        "#lower string\n",
        "data['Sentence'] = data['Sentence'].str.lower()\n",
        "#remove email adress\n",
        "data['Sentence'] = data['Sentence'].replace('[a-zA-Z0-9-_.]+@[a-zA-Z0-9-_.]+', '', regex=True)\n",
        "#remove IP address\n",
        "data['Sentence'] = data['Sentence'].replace('((25[0-5]|2[0-4][0-9]|[01]?[0-9][0-9]?)(\\.|$)){4}', '', regex=True)\n",
        "#remove punctaitions and special chracters\n",
        "data['Sentence'] = data['Sentence'].str.replace('[^\\w\\s]','')\n",
        "#remove numbers\n",
        "data['Sentence'] = data['Sentence'].replace('\\d', '', regex=True)\n",
        "#remove stop words\n",
        "for index, row in data.iterrows():\n",
        "    word_tokens = word_tokenize(row['Sentence'])\n",
        "    filtered_sentence = [w for w in word_tokens if not w in stopwords.words('english')]\n",
        "    df_ = df_.append({\"index\": row['index'], \"Class\":  row['Class'],\"Sentence\": \" \".join(filtered_sentence[0:])}, ignore_index=True)\n",
        "data = df_"
      ],
      "execution_count": null,
      "outputs": []
    },
    {
      "cell_type": "code",
      "metadata": {
        "id": "KalpmmBFSSdB"
      },
      "source": [
        "X_train, X_test, y_train, y_test = train_test_split(data['Sentence'].values.astype('U'),data['Class'].values.astype('int32'), test_size=0.10, random_state=0)\n",
        "classes  = data['Class'].unique()"
      ],
      "execution_count": null,
      "outputs": []
    },
    {
      "cell_type": "code",
      "metadata": {
        "id": "PvUS_mz8SSdE"
      },
      "source": [
        "from sklearn.metrics import confusion_matrix\n",
        "from sklearn.model_selection import cross_val_score\n",
        "from sklearn.metrics import accuracy_score\n",
        "from sklearn.neural_network import MLPClassifier\n",
        "from sklearn.feature_extraction.text import TfidfVectorizer\n",
        "from sklearn.linear_model import SGDClassifier\n",
        "#grid search result\n",
        "vectorizer = TfidfVectorizer(analyzer='word',ngram_range=(1,2), max_features=50000,max_df=0.5,use_idf=True, norm='l2') \n",
        "counts = vectorizer.fit_transform(X_train)\n",
        "vocab = vectorizer.vocabulary_\n",
        "classifier = SGDClassifier(alpha=1e-05,max_iter=50,penalty='elasticnet')\n",
        "targets = y_train\n",
        "classifier = classifier.fit(counts, targets)\n",
        "example_counts = vectorizer.transform(X_test)\n",
        "predictions = classifier.predict(example_counts)"
      ],
      "execution_count": null,
      "outputs": []
    },
    {
      "cell_type": "code",
      "metadata": {
        "id": "15Gp4dUqSSdK",
        "outputId": "3897ab20-cfff-47fa-8ad6-b5b6840647ea"
      },
      "source": [
        "from sklearn.metrics import precision_score\n",
        "from sklearn.metrics import recall_score\n",
        "from sklearn.metrics import classification_report\n",
        "#Model Evaluation\n",
        "acc = accuracy_score(y_test, predictions, normalize=True)\n",
        "hit = precision_score(y_test, predictions, average=None,labels=classes)\n",
        "capture = recall_score(y_test, predictions, average=None,labels=classes)\n",
        "print('Model Accuracy:%.2f'%acc)\n",
        "print(classification_report(y_test, predictions))"
      ],
      "execution_count": null,
      "outputs": [
        {
          "output_type": "stream",
          "text": [
            "Model Accuracy:0.77\n",
            "              precision    recall  f1-score   support\n",
            "\n",
            "           0       0.76      0.80      0.78       139\n",
            "           1       0.78      0.74      0.76       136\n",
            "\n",
            "    accuracy                           0.77       275\n",
            "   macro avg       0.77      0.77      0.77       275\n",
            "weighted avg       0.77      0.77      0.77       275\n",
            "\n"
          ],
          "name": "stdout"
        }
      ]
    },
    {
      "cell_type": "code",
      "metadata": {
        "id": "7zO2npQCSSdN"
      },
      "source": [
        "#source: https://www.kaggle.com/grfiv4/plot-a-confusion-matrix\n",
        "import itertools\n",
        "def plot_confusion_matrix(cm, classes,\n",
        "                          normalize=False,\n",
        "                          title='Confusion matrix',\n",
        "                          cmap=plt.cm.Blues):\n",
        "    \"\"\"\n",
        "    This function prints and plots the confusion matrix.\n",
        "    Normalization can be applied by setting `normalize=True`.\n",
        "    \"\"\"\n",
        "    if normalize:\n",
        "        cm = cm.astype('float') / cm.sum(axis=1)[:, np.newaxis]\n",
        "        #print(\"Normalized confusion matrix\")\n",
        "    else:\n",
        "        print()\n",
        "    plt.imshow(cm, interpolation='nearest', cmap=cmap, aspect='auto')\n",
        "    plt.title(title)\n",
        "    plt.colorbar()\n",
        "    tick_marks = np.arange(len(classes))\n",
        "    plt.xticks(tick_marks, classes, rotation=45)\n",
        "    plt.yticks(tick_marks, classes)\n",
        "    fmt = '.2f' if normalize else 'd'\n",
        "    thresh = cm.max() / 2.\n",
        "    for i, j in itertools.product(range(cm.shape[0]), range(cm.shape[1])):\n",
        "        plt.text(j, i, format(cm[i, j], fmt),\n",
        "                 horizontalalignment=\"center\",\n",
        "                 color=\"white\" if cm[i, j] > thresh else \"black\")\n",
        "    plt.tight_layout()\n",
        "    plt.ylabel('True label')\n",
        "    plt.xlabel('Predicted label')\n",
        "    plt.figure(figsize=(150,100))"
      ],
      "execution_count": null,
      "outputs": []
    },
    {
      "cell_type": "code",
      "metadata": {
        "id": "DI2nLcCnSSdP",
        "outputId": "2b9848b2-a1fb-45e1-9095-fd27d89da524"
      },
      "source": [
        "# Compute confusion matrix\n",
        "cnf_matrix = confusion_matrix(y_test, predictions,classes)\n",
        "np.set_printoptions(precision=2)\n",
        "class_names = range(1,classes.size+1)\n",
        "# Plot non-normalized confusion matrix\n",
        "plt.figure()\n",
        "plot_confusion_matrix(cnf_matrix, classes=class_names,title='Confusion matrix, without normalization')\n",
        "classInfo = pd.DataFrame(data=[])\n",
        "for i in range(0,classes.size):\n",
        "    classInfo = classInfo.append([[classes[i],i+1]],ignore_index=True)\n",
        "classInfo.columns=['Category','Index']\n",
        "classInfo"
      ],
      "execution_count": null,
      "outputs": [
        {
          "output_type": "stream",
          "text": [
            "\n"
          ],
          "name": "stdout"
        },
        {
          "output_type": "execute_result",
          "data": {
            "text/html": [
              "<div>\n",
              "<style scoped>\n",
              "    .dataframe tbody tr th:only-of-type {\n",
              "        vertical-align: middle;\n",
              "    }\n",
              "\n",
              "    .dataframe tbody tr th {\n",
              "        vertical-align: top;\n",
              "    }\n",
              "\n",
              "    .dataframe thead th {\n",
              "        text-align: right;\n",
              "    }\n",
              "</style>\n",
              "<table border=\"1\" class=\"dataframe\">\n",
              "  <thead>\n",
              "    <tr style=\"text-align: right;\">\n",
              "      <th></th>\n",
              "      <th>Category</th>\n",
              "      <th>Index</th>\n",
              "    </tr>\n",
              "  </thead>\n",
              "  <tbody>\n",
              "    <tr>\n",
              "      <td>0</td>\n",
              "      <td>0</td>\n",
              "      <td>1</td>\n",
              "    </tr>\n",
              "    <tr>\n",
              "      <td>1</td>\n",
              "      <td>1</td>\n",
              "      <td>2</td>\n",
              "    </tr>\n",
              "  </tbody>\n",
              "</table>\n",
              "</div>"
            ],
            "text/plain": [
              "   Category  Index\n",
              "0         0      1\n",
              "1         1      2"
            ]
          },
          "metadata": {
            "tags": []
          },
          "execution_count": 16
        },
        {
          "output_type": "display_data",
          "data": {
            "image/png": "[encoded data removed]",
            "text/plain": [
              "<Figure size 432x288 with 2 Axes>"
            ]
          },
          "metadata": {
            "tags": [],
            "needs_background": "light"
          }
        },
        {
          "output_type": "display_data",
          "data": {
            "text/plain": [
              "<Figure size 10800x7200 with 0 Axes>"
            ]
          },
          "metadata": {
            "tags": []
          }
        }
      ]
    },
    {
      "cell_type": "code",
      "metadata": {
        "id": "wgGVQ_NLSSdR"
      },
      "source": [
        ""
      ],
      "execution_count": null,
      "outputs": []
    }
  ]
}