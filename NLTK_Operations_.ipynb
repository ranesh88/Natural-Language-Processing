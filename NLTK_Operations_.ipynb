{
  "nbformat": 4,
  "nbformat_minor": 0,
  "metadata": {
    "kernelspec": {
      "display_name": "Python 3",
      "language": "python",
      "name": "python3"
    },
    "language_info": {
      "codemirror_mode": {
        "name": "ipython",
        "version": 3
      },
      "file_extension": ".py",
      "mimetype": "text/x-python",
      "name": "python",
      "nbconvert_exporter": "python",
      "pygments_lexer": "ipython3",
      "version": "3.7.4"
    },
    "colab": {
      "name": "NLTK Operations .ipynb",
      "provenance": [],
      "include_colab_link": true
    },
    "accelerator": "GPU"
  },
  "cells": [
    {
      "cell_type": "markdown",
      "metadata": {
        "id": "view-in-github",
        "colab_type": "text"
      },
      "source": [
        "<a href=\"https://colab.research.google.com/github/ranesh88/Natural-Language-Processing/blob/main/NLTK_Operations_.ipynb\" target=\"_parent\"><img src=\"https://colab.research.google.com/assets/colab-badge.svg\" alt=\"Open In Colab\"/></a>"
      ]
    },
    {
      "cell_type": "code",
      "metadata": {
        "colab": {
          "base_uri": "https://localhost:8080/"
        },
        "id": "mV_DUDFX-g6O",
        "outputId": "05879056-5f6b-4957-aeb5-7b38b1fe9c42"
      },
      "source": [
        "#test and installation \n",
        "import nltk\n",
        "nltk.download('brown')\n",
        "from nltk.corpus import brown\n",
        "brown.words()"
      ],
      "execution_count": 1,
      "outputs": [
        {
          "output_type": "stream",
          "text": [
            "[nltk_data] Downloading package brown to /root/nltk_data...\n",
            "[nltk_data]   Package brown is already up-to-date!\n"
          ],
          "name": "stdout"
        },
        {
          "output_type": "execute_result",
          "data": {
            "text/plain": [
              "['The', 'Fulton', 'County', 'Grand', 'Jury', 'said', ...]"
            ]
          },
          "metadata": {
            "tags": []
          },
          "execution_count": 1
        }
      ]
    },
    {
      "cell_type": "code",
      "metadata": {
        "colab": {
          "base_uri": "https://localhost:8080/"
        },
        "id": "BmFYyc7U-g6S",
        "outputId": "5c46b5b4-b166-4852-9310-e6042b6fdc0d"
      },
      "source": [
        "# Run NLTK script \n",
        "from nltk.tokenize import RegexpTokenizer\n",
        "tokenizer = RegexpTokenizer(r'\\w+')\n",
        "filterdText=tokenizer.tokenize('Hello Hello friends,ITs fun to learn NLP.')\n",
        "print(filterdText)"
      ],
      "execution_count": 2,
      "outputs": [
        {
          "output_type": "stream",
          "text": [
            "['Hello', 'Hello', 'friends', 'ITs', 'fun', 'to', 'learn', 'NLP']\n"
          ],
          "name": "stdout"
        }
      ]
    },
    {
      "cell_type": "code",
      "metadata": {
        "id": "euzHFhck-g6V"
      },
      "source": [
        ""
      ],
      "execution_count": 2,
      "outputs": []
    },
    {
      "cell_type": "markdown",
      "metadata": {
        "id": "RWmtBzxt-g6Y"
      },
      "source": [
        "# Tokenization "
      ]
    },
    {
      "cell_type": "markdown",
      "metadata": {
        "id": "a_hlM9FR-g6e"
      },
      "source": [
        "# word Tokenization "
      ]
    },
    {
      "cell_type": "code",
      "metadata": {
        "colab": {
          "base_uri": "https://localhost:8080/"
        },
        "id": "J_l2WtZ4-g6f",
        "outputId": "c24df12d-50d1-4fa5-ec2a-a4d01a6e77d4"
      },
      "source": [
        "nltk.download('punkt')\n",
        "from nltk.tokenize import word_tokenize\n",
        "text = \"God is Great! I won a lottery.\"\n",
        "print(word_tokenize(text))"
      ],
      "execution_count": 3,
      "outputs": [
        {
          "output_type": "stream",
          "text": [
            "[nltk_data] Downloading package punkt to /root/nltk_data...\n",
            "[nltk_data]   Package punkt is already up-to-date!\n",
            "['God', 'is', 'Great', '!', 'I', 'won', 'a', 'lottery', '.']\n"
          ],
          "name": "stdout"
        }
      ]
    },
    {
      "cell_type": "markdown",
      "metadata": {
        "id": "Ok-2qnHD-g6j"
      },
      "source": [
        "# Sentences Tokenization "
      ]
    },
    {
      "cell_type": "code",
      "metadata": {
        "colab": {
          "base_uri": "https://localhost:8080/"
        },
        "id": "JfNSgdqB-g6k",
        "outputId": "a4f8f6bd-7709-40c1-ab44-335f366ac847"
      },
      "source": [
        "from nltk.tokenize import sent_tokenize\n",
        "text = \"God is Great! I won a lottery.\"\n",
        "print(sent_tokenize(text))\n",
        "\n",
        "Output: ['God is Great!', 'I won a lottery ']"
      ],
      "execution_count": 4,
      "outputs": [
        {
          "output_type": "stream",
          "text": [
            "['God is Great!', 'I won a lottery.']\n"
          ],
          "name": "stdout"
        }
      ]
    },
    {
      "cell_type": "markdown",
      "metadata": {
        "id": "pVBnjpEL-g6n"
      },
      "source": [
        "# POS (Part-Of-Speech) Tagging & Chunking with NLTK"
      ]
    },
    {
      "cell_type": "markdown",
      "metadata": {
        "id": "rkgyHvIY-g6p"
      },
      "source": [
        "# using Tagger "
      ]
    },
    {
      "cell_type": "code",
      "metadata": {
        "colab": {
          "base_uri": "https://localhost:8080/"
        },
        "id": "66TJtEgI-g6r",
        "outputId": "bf4b6e70-5ab5-497e-c867-d2b09d2c58f0"
      },
      "source": [
        "import nltk\n",
        "nltk.download('averaged_perceptron_tagger')\n",
        "text = word_tokenize(\"And now for something completely different\")\n",
        "nltk.pos_tag(text)"
      ],
      "execution_count": 5,
      "outputs": [
        {
          "output_type": "stream",
          "text": [
            "[nltk_data] Downloading package averaged_perceptron_tagger to\n",
            "[nltk_data]     /root/nltk_data...\n",
            "[nltk_data]   Unzipping taggers/averaged_perceptron_tagger.zip.\n"
          ],
          "name": "stdout"
        },
        {
          "output_type": "execute_result",
          "data": {
            "text/plain": [
              "[('And', 'CC'),\n",
              " ('now', 'RB'),\n",
              " ('for', 'IN'),\n",
              " ('something', 'NN'),\n",
              " ('completely', 'RB'),\n",
              " ('different', 'JJ')]"
            ]
          },
          "metadata": {
            "tags": []
          },
          "execution_count": 5
        }
      ]
    },
    {
      "cell_type": "code",
      "metadata": {
        "colab": {
          "base_uri": "https://localhost:8080/",
          "height": 137
        },
        "id": "CRmMyelg-g6s",
        "outputId": "4eded9cb-4b69-4cd2-9674-b1360f4bdbc7"
      },
      "source": [
        "'''\n",
        "POS tagger is used to assign grammatical information of each word of the sentence. \n",
        "Installing, Importing and downloading all the packages of NLTK is complete.\n",
        "Abbreviation\tMeaning\n",
        "CC\tcoordinating conjunction\n",
        "CD\tcardinal digit\n",
        "DT\tdeterminer\n",
        "EX\texistential there\n",
        "FW\tforeign word\n",
        "IN\tpreposition/subordinating conjunction\n",
        "JJ\tadjective (large)\n",
        "JJR\tadjective, comparative (larger)\n",
        "JJS\tadjective, superlative (largest)\n",
        "LS\tlist market\n",
        "MD\tmodal (could, will)\n",
        "NN\tnoun, singular (cat, tree)\n",
        "NNS\tnoun plural (desks)\n",
        "NNP\tproper noun, singular (sarah)\n",
        "NNPS\tproper noun, plural (indians or americans)\n",
        "PDT\tpredeterminer (all, both, half)\n",
        "POS\tpossessive ending (parent\\ 's)\n",
        "PRP\tpersonal pronoun (hers, herself, him,himself)\n",
        "PRP$\tpossessive pronoun (her, his, mine, my, our )\n",
        "RB\tadverb (occasionally, swiftly)\n",
        "RBR\tadverb, comparative (greater)\n",
        "RBS\tadverb, superlative (biggest)\n",
        "RP\tparticle (about)\n",
        "TO\tinfinite marker (to)\n",
        "UH\tinterjection (goodbye)\n",
        "VB\tverb (ask)\n",
        "VBG\tverb gerund (judging)\n",
        "VBD\tverb past tense (pleaded)\n",
        "VBN\tverb past participle (reunified)\n",
        "VBP\tverb, present tense not 3rd person singular(wrap)\n",
        "VBZ\tverb, present tense with 3rd person singular (bases)\n",
        "WDT\twh-determiner (that, what)\n",
        "WP\twh- pronoun (who)\n",
        "WRB\twh- adverb (how)\n",
        "'''"
      ],
      "execution_count": 6,
      "outputs": [
        {
          "output_type": "execute_result",
          "data": {
            "application/vnd.google.colaboratory.intrinsic+json": {
              "type": "string"
            },
            "text/plain": [
              "\"\\nPOS tagger is used to assign grammatical information of each word of the sentence. \\nInstalling, Importing and downloading all the packages of NLTK is complete.\\nAbbreviation\\tMeaning\\nCC\\tcoordinating conjunction\\nCD\\tcardinal digit\\nDT\\tdeterminer\\nEX\\texistential there\\nFW\\tforeign word\\nIN\\tpreposition/subordinating conjunction\\nJJ\\tadjective (large)\\nJJR\\tadjective, comparative (larger)\\nJJS\\tadjective, superlative (largest)\\nLS\\tlist market\\nMD\\tmodal (could, will)\\nNN\\tnoun, singular (cat, tree)\\nNNS\\tnoun plural (desks)\\nNNP\\tproper noun, singular (sarah)\\nNNPS\\tproper noun, plural (indians or americans)\\nPDT\\tpredeterminer (all, both, half)\\nPOS\\tpossessive ending (parent\\\\ 's)\\nPRP\\tpersonal pronoun (hers, herself, him,himself)\\nPRP$\\tpossessive pronoun (her, his, mine, my, our )\\nRB\\tadverb (occasionally, swiftly)\\nRBR\\tadverb, comparative (greater)\\nRBS\\tadverb, superlative (biggest)\\nRP\\tparticle (about)\\nTO\\tinfinite marker (to)\\nUH\\tinterjection (goodbye)\\nVB\\tverb (ask)\\nVBG\\tverb gerund (judging)\\nVBD\\tverb past tense (pleaded)\\nVBN\\tverb past participle (reunified)\\nVBP\\tverb, present tense not 3rd person singular(wrap)\\nVBZ\\tverb, present tense with 3rd person singular (bases)\\nWDT\\twh-determiner (that, what)\\nWP\\twh- pronoun (who)\\nWRB\\twh- adverb (how)\\n\""
            ]
          },
          "metadata": {
            "tags": []
          },
          "execution_count": 6
        }
      ]
    },
    {
      "cell_type": "markdown",
      "metadata": {
        "id": "qWuHNSE7-g6u"
      },
      "source": [
        "# Chunking "
      ]
    },
    {
      "cell_type": "code",
      "metadata": {
        "colab": {
          "base_uri": "https://localhost:8080/"
        },
        "id": "o0pnIXWE-g61",
        "outputId": "7b836357-25a7-4825-e06c-fe35e0b44e3b"
      },
      "source": [
        "from nltk import pos_tag\n",
        "from nltk import RegexpParser\n",
        "text =\"learn Data Science from itvedant and make study easy\".split()\n",
        "print(\"After Split:\",text)\n",
        "tokens_tag = pos_tag(text)\n",
        "print(\"After Token:\",tokens_tag)\n",
        "patterns= \"\"\"mychunk:{<NN.?>*<VBD.?>*<JJ.?>*<CC>?}\"\"\"\n",
        "chunker = RegexpParser(patterns)\n",
        "print(\"After Regex:\",chunker)\n",
        "output = chunker.parse(tokens_tag)\n",
        "print(\"After Chunking\",output)"
      ],
      "execution_count": 7,
      "outputs": [
        {
          "output_type": "stream",
          "text": [
            "After Split: ['learn', 'Data', 'Science', 'from', 'itvedant', 'and', 'make', 'study', 'easy']\n",
            "After Token: [('learn', 'NN'), ('Data', 'NNP'), ('Science', 'NNP'), ('from', 'IN'), ('itvedant', 'NN'), ('and', 'CC'), ('make', 'VB'), ('study', 'NN'), ('easy', 'JJ')]\n",
            "After Regex: chunk.RegexpParser with 1 stages:\n",
            "RegexpChunkParser with 1 rules:\n",
            "       <ChunkRule: '<NN.?>*<VBD.?>*<JJ.?>*<CC>?'>\n",
            "After Chunking (S\n",
            "  (mychunk learn/NN Data/NNP Science/NNP)\n",
            "  from/IN\n",
            "  (mychunk itvedant/NN and/CC)\n",
            "  make/VB\n",
            "  (mychunk study/NN easy/JJ))\n"
          ],
          "name": "stdout"
        }
      ]
    },
    {
      "cell_type": "code",
      "metadata": {
        "colab": {
          "base_uri": "https://localhost:8080/"
        },
        "id": "Ga-dxOFr-g64",
        "outputId": "b4e3a3aa-025b-4b68-84f2-6a4ed62439fb"
      },
      "source": [
        "text = \"learn Data Science from YouTube\"\n",
        "tokens = nltk.word_tokenize(text)\n",
        "print(tokens)\n",
        "tag = nltk.pos_tag(tokens)\n",
        "print(tag)\n",
        "grammar = \"NP: {<DT>?<JJ>*<NN>}\"\n",
        "cp  =nltk.RegexpParser(grammar)\n",
        "result = cp.parse(tag)\n",
        "print(result)"
      ],
      "execution_count": 25,
      "outputs": [
        {
          "output_type": "stream",
          "text": [
            "['learn', 'Data', 'Science', 'from', 'YouTube']\n",
            "[('learn', 'NN'), ('Data', 'NNP'), ('Science', 'NNP'), ('from', 'IN'), ('YouTube', 'NNP')]\n",
            "(S (NP learn/NN) Data/NNP Science/NNP from/IN YouTube/NNP)\n"
          ],
          "name": "stdout"
        }
      ]
    },
    {
      "cell_type": "code",
      "metadata": {
        "id": "KPZKJzr_-g65"
      },
      "source": [
        "# result.draw() # It will draw the pattern graphically which can be seen in Noun Phrase chunking "
      ],
      "execution_count": 9,
      "outputs": []
    },
    {
      "cell_type": "markdown",
      "metadata": {
        "id": "tOSFTSgU-g68"
      },
      "source": [
        "# Stemming"
      ]
    },
    {
      "cell_type": "code",
      "metadata": {
        "colab": {
          "base_uri": "https://localhost:8080/"
        },
        "id": "_4dS0yAZ-g6-",
        "outputId": "e594291c-c96b-4255-d250-f0cb6e30e1f8"
      },
      "source": [
        "from nltk.stem import PorterStemmer\n",
        "e_words= [\"wait\", \"waiting\", \"waited\", \"waits\"]\n",
        "ps =PorterStemmer()\n",
        "for w in e_words:\n",
        "    rootWord=ps.stem(w)\n",
        "    print(rootWord)"
      ],
      "execution_count": 10,
      "outputs": [
        {
          "output_type": "stream",
          "text": [
            "wait\n",
            "wait\n",
            "wait\n",
            "wait\n"
          ],
          "name": "stdout"
        }
      ]
    },
    {
      "cell_type": "code",
      "metadata": {
        "colab": {
          "base_uri": "https://localhost:8080/"
        },
        "id": "u5dRXewK-g6_",
        "outputId": "9f0aaf70-cbfe-4f64-ecf1-d60571df1632"
      },
      "source": [
        "from nltk.stem import PorterStemmer\n",
        "from nltk.tokenize import sent_tokenize, word_tokenize\n",
        "sentence=\"Hello itvedant, You have to build a very good site and I love visiting your site.\"\n",
        "words = word_tokenize(sentence)\n",
        "ps = PorterStemmer()\n",
        "for w in words:\n",
        "    rootWord=ps.stem(w)\n",
        "    print(rootWord)"
      ],
      "execution_count": 11,
      "outputs": [
        {
          "output_type": "stream",
          "text": [
            "hello\n",
            "itved\n",
            ",\n",
            "you\n",
            "have\n",
            "to\n",
            "build\n",
            "a\n",
            "veri\n",
            "good\n",
            "site\n",
            "and\n",
            "I\n",
            "love\n",
            "visit\n",
            "your\n",
            "site\n",
            ".\n"
          ],
          "name": "stdout"
        }
      ]
    },
    {
      "cell_type": "markdown",
      "metadata": {
        "id": "XqJxGGML-g7A"
      },
      "source": [
        "# Lemmatization"
      ]
    },
    {
      "cell_type": "code",
      "metadata": {
        "colab": {
          "base_uri": "https://localhost:8080/"
        },
        "id": "PfTWO3JN-g7C",
        "outputId": "355c8746-6ec2-4933-d495-75f83c524ef4"
      },
      "source": [
        "from nltk.stem.porter import PorterStemmer\n",
        "porter_stemmer  = PorterStemmer()\n",
        "text = \"studies studying cries cry\"\n",
        "tokenization = nltk.word_tokenize(text)\n",
        "for w in tokenization:\n",
        "    print(\"Stemming for {} is {}\".format(w,porter_stemmer.stem(w)))  "
      ],
      "execution_count": 12,
      "outputs": [
        {
          "output_type": "stream",
          "text": [
            "Stemming for studies is studi\n",
            "Stemming for studying is studi\n",
            "Stemming for cries is cri\n",
            "Stemming for cry is cri\n"
          ],
          "name": "stdout"
        }
      ]
    },
    {
      "cell_type": "code",
      "metadata": {
        "colab": {
          "base_uri": "https://localhost:8080/"
        },
        "id": "DJ2JCogp-g7D",
        "outputId": "4db7d536-f06f-40b3-e496-8213b6a63063"
      },
      "source": [
        "nltk.download('wordnet')\n",
        "from nltk.stem import WordNetLemmatizer\n",
        "wordnet_lemmatizer = WordNetLemmatizer()\n",
        "text = \"studies studying cries cry\"\n",
        "tokenization = nltk.word_tokenize(text)\n",
        "for w in tokenization:\n",
        "    print(\"Lemma for {} is {}\".format(w, wordnet_lemmatizer.lemmatize(w)))  "
      ],
      "execution_count": 13,
      "outputs": [
        {
          "output_type": "stream",
          "text": [
            "[nltk_data] Downloading package wordnet to /root/nltk_data...\n",
            "[nltk_data]   Unzipping corpora/wordnet.zip.\n",
            "Lemma for studies is study\n",
            "Lemma for studying is studying\n",
            "Lemma for cries is cry\n",
            "Lemma for cry is cry\n"
          ],
          "name": "stdout"
        }
      ]
    },
    {
      "cell_type": "markdown",
      "metadata": {
        "id": "p8uQMTFo-g7E"
      },
      "source": [
        "# Real Time example showing use of Wordnet Lemmatization and POS Tagging in Python"
      ]
    },
    {
      "cell_type": "code",
      "metadata": {
        "colab": {
          "base_uri": "https://localhost:8080/"
        },
        "id": "bXOBDQHN-g7F",
        "outputId": "b24821fb-003f-4eb4-e1fc-2d0bfa901acc"
      },
      "source": [
        "from nltk.corpus import wordnet as wn\n",
        "from nltk.stem.wordnet import WordNetLemmatizer\n",
        "from nltk import word_tokenize, pos_tag\n",
        "from collections import defaultdict\n",
        "tag_map = defaultdict(lambda : wn.NOUN)\n",
        "tag_map['J'] = wn.ADJ\n",
        "tag_map['V'] = wn.VERB\n",
        "tag_map['R'] = wn.ADV\n",
        "\n",
        "text = \"Data Science is a totally new kind of learning experience.\"\n",
        "tokens = word_tokenize(text)\n",
        "lemma_function = WordNetLemmatizer()\n",
        "for token, tag in pos_tag(tokens):\n",
        "    lemma = lemma_function.lemmatize(token, tag_map[tag[0]])\n",
        "    print(token, \"=>\", lemma)"
      ],
      "execution_count": 14,
      "outputs": [
        {
          "output_type": "stream",
          "text": [
            "Data => Data\n",
            "Science => Science\n",
            "is => be\n",
            "a => a\n",
            "totally => totally\n",
            "new => new\n",
            "kind => kind\n",
            "of => of\n",
            "learning => learn\n",
            "experience => experience\n",
            ". => .\n"
          ],
          "name": "stdout"
        }
      ]
    },
    {
      "cell_type": "markdown",
      "metadata": {
        "id": "qs7ZIHut-g7G"
      },
      "source": [
        "# wordnet "
      ]
    },
    {
      "cell_type": "code",
      "metadata": {
        "id": "HFbhtKWC-g7J"
      },
      "source": [
        "from nltk.corpus import wordnet as w"
      ],
      "execution_count": 15,
      "outputs": []
    },
    {
      "cell_type": "code",
      "metadata": {
        "colab": {
          "base_uri": "https://localhost:8080/"
        },
        "id": "XIw-y6SX-g7L",
        "outputId": "955d3421-ec80-4b39-ff68-2af9f7569759"
      },
      "source": [
        "dir(w)"
      ],
      "execution_count": 16,
      "outputs": [
        {
          "output_type": "execute_result",
          "data": {
            "text/plain": [
              "['ADJ',\n",
              " 'ADJ_SAT',\n",
              " 'ADV',\n",
              " 'MORPHOLOGICAL_SUBSTITUTIONS',\n",
              " 'NOUN',\n",
              " 'VERB',\n",
              " '_ENCODING',\n",
              " '_FILEMAP',\n",
              " '_FILES',\n",
              " '__class__',\n",
              " '__delattr__',\n",
              " '__dict__',\n",
              " '__dir__',\n",
              " '__doc__',\n",
              " '__eq__',\n",
              " '__format__',\n",
              " '__ge__',\n",
              " '__getattribute__',\n",
              " '__gt__',\n",
              " '__hash__',\n",
              " '__init__',\n",
              " '__init_subclass__',\n",
              " '__le__',\n",
              " '__lt__',\n",
              " '__module__',\n",
              " '__ne__',\n",
              " '__new__',\n",
              " '__reduce__',\n",
              " '__reduce_ex__',\n",
              " '__repr__',\n",
              " '__setattr__',\n",
              " '__sizeof__',\n",
              " '__str__',\n",
              " '__subclasshook__',\n",
              " '__unicode__',\n",
              " '__weakref__',\n",
              " '_compute_max_depth',\n",
              " '_data_file',\n",
              " '_data_file_map',\n",
              " '_encoding',\n",
              " '_exception_map',\n",
              " '_fileids',\n",
              " '_get_root',\n",
              " '_key_count_file',\n",
              " '_key_synset_file',\n",
              " '_lang_data',\n",
              " '_lemma_pos_offset_map',\n",
              " '_lexnames',\n",
              " '_load_exception_map',\n",
              " '_load_lang_data',\n",
              " '_load_lemma_pos_offset_map',\n",
              " '_max_depth',\n",
              " '_morphy',\n",
              " '_omw_reader',\n",
              " '_pos_names',\n",
              " '_pos_numbers',\n",
              " '_root',\n",
              " '_synset_from_pos_and_line',\n",
              " '_synset_from_pos_and_offset',\n",
              " '_synset_offset_cache',\n",
              " '_tagset',\n",
              " '_unload',\n",
              " 'abspath',\n",
              " 'abspaths',\n",
              " 'all_lemma_names',\n",
              " 'all_synsets',\n",
              " 'citation',\n",
              " 'custom_lemmas',\n",
              " 'encoding',\n",
              " 'ensure_loaded',\n",
              " 'fileids',\n",
              " 'get_version',\n",
              " 'ic',\n",
              " 'jcn_similarity',\n",
              " 'langs',\n",
              " 'lch_similarity',\n",
              " 'lemma',\n",
              " 'lemma_count',\n",
              " 'lemma_from_key',\n",
              " 'lemmas',\n",
              " 'license',\n",
              " 'lin_similarity',\n",
              " 'morphy',\n",
              " 'of2ss',\n",
              " 'open',\n",
              " 'path_similarity',\n",
              " 'readme',\n",
              " 'res_similarity',\n",
              " 'root',\n",
              " 'ss2of',\n",
              " 'synset',\n",
              " 'synset_from_pos_and_offset',\n",
              " 'synsets',\n",
              " 'unicode_repr',\n",
              " 'words',\n",
              " 'wup_similarity']"
            ]
          },
          "metadata": {
            "tags": []
          },
          "execution_count": 16
        }
      ]
    },
    {
      "cell_type": "code",
      "metadata": {
        "colab": {
          "base_uri": "https://localhost:8080/"
        },
        "id": "gi7jHPbl-g7N",
        "outputId": "7d564649-160a-4b7c-da13-92f8d2ad0362"
      },
      "source": [
        "from nltk.corpus import wordnet\n",
        "syns = wordnet.synsets(\"dog\")\n",
        "print(syns)"
      ],
      "execution_count": 17,
      "outputs": [
        {
          "output_type": "stream",
          "text": [
            "[Synset('dog.n.01'), Synset('frump.n.01'), Synset('dog.n.03'), Synset('cad.n.01'), Synset('frank.n.02'), Synset('pawl.n.01'), Synset('andiron.n.01'), Synset('chase.v.01')]\n"
          ],
          "name": "stdout"
        }
      ]
    },
    {
      "cell_type": "code",
      "metadata": {
        "colab": {
          "base_uri": "https://localhost:8080/"
        },
        "id": "zXzW3Qvh-g7Q",
        "outputId": "ce01b3b8-2b12-4269-b247-21c8d76f2df0"
      },
      "source": [
        "#Let us write a program using python to find synonym and antonym of word \"active\" using Wordnet.\n",
        "from nltk.corpus import wordnet\n",
        "synonyms = []\n",
        "antonyms = []\n",
        "\n",
        "for syn in wordnet.synsets(\"active\"):\n",
        "    for l in syn.lemmas():\n",
        "        synonyms.append(l.name())\n",
        "        if l.antonyms():\n",
        "            antonyms.append(l.antonyms()[0].name())\n",
        "    print(set(synonyms))\n",
        "    print(set(antonyms))"
      ],
      "execution_count": 18,
      "outputs": [
        {
          "output_type": "stream",
          "text": [
            "{'active', 'active_agent'}\n",
            "set()\n",
            "{'active_voice', 'active', 'active_agent'}\n",
            "{'passive_voice'}\n",
            "{'active_voice', 'active', 'active_agent'}\n",
            "{'passive_voice'}\n",
            "{'active_voice', 'active', 'active_agent'}\n",
            "{'inactive', 'passive_voice'}\n",
            "{'combat-ready', 'fighting', 'active', 'active_agent', 'active_voice'}\n",
            "{'inactive', 'passive_voice'}\n",
            "{'combat-ready', 'fighting', 'active', 'active_agent', 'active_voice'}\n",
            "{'inactive', 'passive', 'passive_voice'}\n",
            "{'participating', 'combat-ready', 'fighting', 'active', 'active_agent', 'active_voice'}\n",
            "{'inactive', 'passive', 'passive_voice'}\n",
            "{'participating', 'combat-ready', 'fighting', 'active', 'active_agent', 'active_voice'}\n",
            "{'inactive', 'passive', 'passive_voice'}\n",
            "{'participating', 'combat-ready', 'fighting', 'active', 'active_agent', 'active_voice'}\n",
            "{'inactive', 'passive', 'passive_voice'}\n",
            "{'participating', 'combat-ready', 'fighting', 'active', 'active_agent', 'active_voice'}\n",
            "{'inactive', 'passive', 'passive_voice'}\n",
            "{'participating', 'alive', 'combat-ready', 'fighting', 'active', 'active_agent', 'active_voice'}\n",
            "{'inactive', 'passive', 'passive_voice'}\n",
            "{'participating', 'alive', 'combat-ready', 'fighting', 'active', 'active_agent', 'active_voice'}\n",
            "{'inactive', 'passive', 'passive_voice', 'quiet'}\n",
            "{'participating', 'alive', 'combat-ready', 'fighting', 'active', 'active_agent', 'active_voice'}\n",
            "{'inactive', 'passive', 'passive_voice', 'quiet'}\n",
            "{'participating', 'dynamic', 'alive', 'combat-ready', 'fighting', 'active', 'active_agent', 'active_voice'}\n",
            "{'inactive', 'passive', 'passive_voice', 'quiet', 'stative'}\n",
            "{'participating', 'dynamic', 'alive', 'combat-ready', 'fighting', 'active', 'active_agent', 'active_voice'}\n",
            "{'inactive', 'passive', 'extinct', 'passive_voice', 'quiet', 'stative'}\n",
            "{'participating', 'dynamic', 'alive', 'combat-ready', 'fighting', 'active', 'active_agent', 'active_voice'}\n",
            "{'inactive', 'passive', 'extinct', 'dormant', 'passive_voice', 'quiet', 'stative'}\n",
            "{'participating', 'dynamic', 'alive', 'combat-ready', 'fighting', 'active', 'active_agent', 'active_voice'}\n",
            "{'inactive', 'passive', 'extinct', 'dormant', 'passive_voice', 'quiet', 'stative'}\n"
          ],
          "name": "stdout"
        }
      ]
    },
    {
      "cell_type": "markdown",
      "metadata": {
        "id": "FF5ky6yx-g7R"
      },
      "source": [
        "# Tagging "
      ]
    },
    {
      "cell_type": "code",
      "metadata": {
        "colab": {
          "base_uri": "https://localhost:8080/"
        },
        "id": "gV8q2mz2-g7T",
        "outputId": "d3ca3f8a-2331-4888-afc1-6af7187c6e9d"
      },
      "source": [
        "text = \"Hello friends, You have to build a very good site, and I love visiting your   site.\"\n",
        "sentence = nltk.sent_tokenize(text)\n",
        "for sent in sentence:\n",
        "\t print(nltk.pos_tag(nltk.word_tokenize(sent)))"
      ],
      "execution_count": 19,
      "outputs": [
        {
          "output_type": "stream",
          "text": [
            "[('Hello', 'NNP'), ('friends', 'NNS'), (',', ','), ('You', 'PRP'), ('have', 'VBP'), ('to', 'TO'), ('build', 'VB'), ('a', 'DT'), ('very', 'RB'), ('good', 'JJ'), ('site', 'NN'), (',', ','), ('and', 'CC'), ('I', 'PRP'), ('love', 'VBP'), ('visiting', 'VBG'), ('your', 'PRP$'), ('site', 'NN'), ('.', '.')]\n"
          ],
          "name": "stdout"
        }
      ]
    },
    {
      "cell_type": "markdown",
      "metadata": {
        "id": "VoeLN9cE-g7W"
      },
      "source": [
        "# Counting POS Tags"
      ]
    },
    {
      "cell_type": "code",
      "metadata": {
        "colab": {
          "base_uri": "https://localhost:8080/"
        },
        "id": "jWAYmCln-g7Y",
        "outputId": "2b4df344-aa9c-4346-be7e-8241c7385d0e"
      },
      "source": [
        "from collections import Counter\n",
        "import nltk\n",
        "text = \" Google is one of the best sites to learn Data Science,PHP,Java and much more online.\"\n",
        "lower_case = text.lower()\n",
        "tokens = nltk.word_tokenize(lower_case)\n",
        "tags = nltk.pos_tag(tokens)\n",
        "counts = Counter( tag for word,  tag in tags)\n",
        "print(\"counts => \",counts)\n",
        "print(\"Tags => \",tags)"
      ],
      "execution_count": 20,
      "outputs": [
        {
          "output_type": "stream",
          "text": [
            "counts =>  Counter({'NN': 5, 'NNS': 2, ',': 2, 'VBZ': 1, 'CD': 1, 'IN': 1, 'DT': 1, 'JJS': 1, 'TO': 1, 'VB': 1, 'CC': 1, 'RB': 1, 'JJR': 1, '.': 1})\n",
            "Tags =>  [('google', 'NN'), ('is', 'VBZ'), ('one', 'CD'), ('of', 'IN'), ('the', 'DT'), ('best', 'JJS'), ('sites', 'NNS'), ('to', 'TO'), ('learn', 'VB'), ('data', 'NNS'), ('science', 'NN'), (',', ','), ('php', 'NN'), (',', ','), ('java', 'NN'), ('and', 'CC'), ('much', 'RB'), ('more', 'JJR'), ('online', 'NN'), ('.', '.')]\n"
          ],
          "name": "stdout"
        }
      ]
    },
    {
      "cell_type": "markdown",
      "metadata": {
        "id": "W3VGKn1W-g7a"
      },
      "source": [
        "# Frequency Distribution"
      ]
    },
    {
      "cell_type": "code",
      "metadata": {
        "colab": {
          "base_uri": "https://localhost:8080/",
          "height": 354
        },
        "id": "krM1FIkp-g7c",
        "outputId": "23bf9f82-43c8-4674-e327-fa1fe6452838"
      },
      "source": [
        "a = \"Google is the site where you can find the best tutorials for Software development Tutorial, Data Science Course for Beginners. Java Tutorial for Beginners and much more. Please visit the site www.google.com and much more.\"\n",
        "words = nltk.tokenize.word_tokenize(a)\n",
        "fd = nltk.FreqDist(words)\n",
        "fd.plot()"
      ],
      "execution_count": 21,
      "outputs": [
        {
          "output_type": "display_data",
          "data": {
            "image/png": "[encoded data removed]",
            "text/plain": [
              "<Figure size 432x288 with 1 Axes>"
            ]
          },
          "metadata": {
            "tags": [],
            "needs_background": "light"
          }
        }
      ]
    },
    {
      "cell_type": "markdown",
      "metadata": {
        "id": "erpCKzz8-g7e"
      },
      "source": [
        "# Collocations: Bigrams and Trigrams"
      ]
    },
    {
      "cell_type": "markdown",
      "metadata": {
        "id": "GfEWOySW-g7f"
      },
      "source": [
        "# Bigrams Combination of two words"
      ]
    },
    {
      "cell_type": "code",
      "metadata": {
        "colab": {
          "base_uri": "https://localhost:8080/"
        },
        "id": "dVBzouw9-g7g",
        "outputId": "78f44b6e-fed8-4663-9571-a747ff1e2a36"
      },
      "source": [
        "text = \"YouTube is a totally new kind of learning experience.\"\n",
        "Tokens = nltk.word_tokenize(text)\n",
        "output = list(nltk.bigrams(Tokens))\n",
        "print(output)"
      ],
      "execution_count": 22,
      "outputs": [
        {
          "output_type": "stream",
          "text": [
            "[('YouTube', 'is'), ('is', 'a'), ('a', 'totally'), ('totally', 'new'), ('new', 'kind'), ('kind', 'of'), ('of', 'learning'), ('learning', 'experience'), ('experience', '.')]\n"
          ],
          "name": "stdout"
        }
      ]
    },
    {
      "cell_type": "markdown",
      "metadata": {
        "id": "7-Ufaz4d-g7h"
      },
      "source": [
        "# Trigrams Combination of three words"
      ]
    },
    {
      "cell_type": "code",
      "metadata": {
        "colab": {
          "base_uri": "https://localhost:8080/"
        },
        "id": "m1xjxp1G-g7h",
        "outputId": "beb09967-0c18-4e56-b02a-a5de099ec292"
      },
      "source": [
        "text = \"YouTube is a totally new kind of learning experience.\"\n",
        "Tokens = nltk.word_tokenize(text)\n",
        "output = list(nltk.trigrams(Tokens))\n",
        "print(output)"
      ],
      "execution_count": 23,
      "outputs": [
        {
          "output_type": "stream",
          "text": [
            "[('YouTube', 'is', 'a'), ('is', 'a', 'totally'), ('a', 'totally', 'new'), ('totally', 'new', 'kind'), ('new', 'kind', 'of'), ('kind', 'of', 'learning'), ('of', 'learning', 'experience'), ('learning', 'experience', '.')]\n"
          ],
          "name": "stdout"
        }
      ]
    },
    {
      "cell_type": "code",
      "metadata": {
        "colab": {
          "base_uri": "https://localhost:8080/",
          "height": 204
        },
        "id": "9--V0GiN-g7i",
        "outputId": "2244d60c-36d0-4e15-ba5f-0cc8cd7ff323"
      },
      "source": [
        "from sklearn.feature_extraction.text import TfidfVectorizer\n",
        "import pandas as pd\n",
        "texts = [\"good movie\",\"not a good movie\", \"did not like\",\n",
        "        \"i like it\",\"good one\"]\n",
        "tfidf = TfidfVectorizer(min_df=2,max_df=0.5,ngram_range=(1,2))\n",
        "\n",
        "features = tfidf.fit_transform(texts)\n",
        "pd.DataFrame(features.todense(),columns=tfidf.get_feature_names())\n"
      ],
      "execution_count": 24,
      "outputs": [
        {
          "output_type": "execute_result",
          "data": {
            "text/html": [
              "<div>\n",
              "<style scoped>\n",
              "    .dataframe tbody tr th:only-of-type {\n",
              "        vertical-align: middle;\n",
              "    }\n",
              "\n",
              "    .dataframe tbody tr th {\n",
              "        vertical-align: top;\n",
              "    }\n",
              "\n",
              "    .dataframe thead th {\n",
              "        text-align: right;\n",
              "    }\n",
              "</style>\n",
              "<table border=\"1\" class=\"dataframe\">\n",
              "  <thead>\n",
              "    <tr style=\"text-align: right;\">\n",
              "      <th></th>\n",
              "      <th>good movie</th>\n",
              "      <th>like</th>\n",
              "      <th>movie</th>\n",
              "      <th>not</th>\n",
              "    </tr>\n",
              "  </thead>\n",
              "  <tbody>\n",
              "    <tr>\n",
              "      <th>0</th>\n",
              "      <td>0.707107</td>\n",
              "      <td>0.000000</td>\n",
              "      <td>0.707107</td>\n",
              "      <td>0.000000</td>\n",
              "    </tr>\n",
              "    <tr>\n",
              "      <th>1</th>\n",
              "      <td>0.577350</td>\n",
              "      <td>0.000000</td>\n",
              "      <td>0.577350</td>\n",
              "      <td>0.577350</td>\n",
              "    </tr>\n",
              "    <tr>\n",
              "      <th>2</th>\n",
              "      <td>0.000000</td>\n",
              "      <td>0.707107</td>\n",
              "      <td>0.000000</td>\n",
              "      <td>0.707107</td>\n",
              "    </tr>\n",
              "    <tr>\n",
              "      <th>3</th>\n",
              "      <td>0.000000</td>\n",
              "      <td>1.000000</td>\n",
              "      <td>0.000000</td>\n",
              "      <td>0.000000</td>\n",
              "    </tr>\n",
              "    <tr>\n",
              "      <th>4</th>\n",
              "      <td>0.000000</td>\n",
              "      <td>0.000000</td>\n",
              "      <td>0.000000</td>\n",
              "      <td>0.000000</td>\n",
              "    </tr>\n",
              "  </tbody>\n",
              "</table>\n",
              "</div>"
            ],
            "text/plain": [
              "   good movie      like     movie       not\n",
              "0    0.707107  0.000000  0.707107  0.000000\n",
              "1    0.577350  0.000000  0.577350  0.577350\n",
              "2    0.000000  0.707107  0.000000  0.707107\n",
              "3    0.000000  1.000000  0.000000  0.000000\n",
              "4    0.000000  0.000000  0.000000  0.000000"
            ]
          },
          "metadata": {
            "tags": []
          },
          "execution_count": 24
        }
      ]
    },
    {
      "cell_type": "code",
      "metadata": {
        "id": "3oYYCthN-g7j"
      },
      "source": [
        ""
      ],
      "execution_count": 24,
      "outputs": []
    }
  ]
}